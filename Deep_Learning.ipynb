{
  "cells": [
    {
      "cell_type": "markdown",
      "metadata": {
        "id": "UDImBwEquR-S"
      },
      "source": [
        "# Problem Sheet 10 - Deep Learning\n",
        "\n",
        "The goal of this exercise is to get familiar with the principle of backpropagation for the training of neural networks. Remember the principle architecture of a neural network. The transition from layer $l$ to layer $l+1$ is realized as follows\n",
        "\n",
        "$$\n",
        "a^{(l+1)} = \\sigma\\left( W^{(l)} a^{(l-1)} + b^{(l)} \\right).\n",
        "$$\n",
        "\n",
        "We have $a^{(l)}, b^{(l)} \\in \\mathbb{R}^{n_l}$, and $W^{(l)} \\in \\mathbb{R}^{n_l,n_{l+1}}$. The activation function $\\sigma \\colon \\mathbb R \\to \\mathbb R, \\sigma(x) = \\frac{1}{1+e^{-x}}$ is applied elementwise.\n",
        "\n",
        "**Task:** Complete the following function with the sigmoid activation."
      ]
    },
    {
      "cell_type": "code",
      "execution_count": 2,
      "metadata": {
        "id": "3szMU6OPuR-U"
      },
      "outputs": [],
      "source": [
        "import numpy as np\n",
        "\n",
        "def my_activation(x):\n",
        "    \"\"\"\n",
        "    Sigmoid activation function.\n",
        "\n",
        "    Arguments:\n",
        "    x -- Input value or numpy array.\n",
        "\n",
        "    Returns:\n",
        "    s -- Output value or numpy array after applying the sigmoid activation.\n",
        "    \"\"\"\n",
        "\n",
        "    s = 1 / (1 + np.exp(-x))\n",
        "    \n",
        "    return s\n"
      ]
    },
    {
      "cell_type": "markdown",
      "metadata": {
        "id": "eN8WuPRAuR-V"
      },
      "source": [
        "Now, we want to implement backpropagation for a network with a fixed number of layers ($=3$) and 2d input.\n",
        "\n",
        "**Task:** Complete the following code that implements backpropagation for a network of fixed size 3. Use ''my_activation'' as activation function. You can use the MATLAB code from our OPAL folder as a help.\n",
        "\n",
        "Layer sizes:\n",
        "$$\n",
        "n_1 = 2, n_2 = 2, n_3 = 3, n_4 = 2\n",
        "$$"
      ]
    },
    {
      "cell_type": "code",
      "execution_count": 3,
      "metadata": {
        "id": "latQYczDuR-W"
      },
      "outputs": [],
      "source": [
        "import numpy as np\n",
        "\n",
        "def sigmoid(x):\n",
        "    \"\"\"\n",
        "    Sigmoid activation function.\n",
        "\n",
        "    Arguments:\n",
        "    x -- Input value or numpy array.\n",
        "\n",
        "    Returns:\n",
        "    s -- Output value or numpy array after applying the sigmoid activation.\n",
        "    \"\"\"\n",
        "\n",
        "    s = 1 / (1 + np.exp(-x))\n",
        "    \n",
        "    return s\n",
        "\n",
        "def my_backprop(x1, x2, y, eta):\n",
        "    \"\"\"\n",
        "    Backpropagation algorithm for training a neural network.\n",
        "\n",
        "    Arguments:\n",
        "    x1 -- Input value for the first node.\n",
        "    x2 -- Input value for the second node.\n",
        "    y -- Target output value.\n",
        "    eta -- Learning rate.\n",
        "\n",
        "    Returns:\n",
        "    W -- List of weight matrices for each layer.\n",
        "    b -- List of bias vectors for each layer.\n",
        "    \"\"\"\n",
        "    \n",
        "    # Params (SG_iterations: number of iterations of Stochastic Gradient Descent, n layer sizes)\n",
        "    SG_iterations = 1000000\n",
        "    n = [2, 3, 2]\n",
        "    \n",
        "    W = []\n",
        "    b = []\n",
        "    \n",
        "    for i in range(3):\n",
        "        # Initialize weights and biases\n",
        "        W.append(np.random.randn(n[i + 1], n[i]))\n",
        "        b.append(np.random.randn(n[i + 1], 1))\n",
        "        \n",
        "    for i in range(SG_iterations):\n",
        "        # Stochastic Gradient Descent (SGD) step\n",
        "        # Forward propagation\n",
        "        z1 = np.dot(W[0], np.array([[x1], [x2]])) + b[0]\n",
        "        a1 = sigmoid(z1)\n",
        "        z2 = np.dot(W[1], a1) + b[1]\n",
        "        a2 = sigmoid(z2)\n",
        "        z3 = np.dot(W[2], a2) + b[2]\n",
        "        a3 = sigmoid(z3)\n",
        "        \n",
        "        # Backward propagation\n",
        "        delta3 = a3 - np.array([[y], [1 - y]])\n",
        "        delta2 = np.dot(W[2].T, delta3) * a2 * (1 - a2)\n",
        "        delta1 = np.dot(W[1].T, delta2) * a1 * (1 - a1)\n",
        "        \n",
        "        # Update weights and biases\n",
        "        W[2] -= eta * np.dot(delta3, a2.T)\n",
        "        b[2] -= eta * delta3\n",
        "        W[1] -= eta * np.dot(delta2, a1.T)\n",
        "        b[1] -= eta * delta2\n",
        "        W[0] -= eta * np.dot(delta1, np.array([[x1, x2]]))\n",
        "        b[0] -= eta * delta1\n",
        "        \n",
        "    return W, b\n"
      ]
    },
    {
      "cell_type": "markdown",
      "metadata": {
        "id": "ry9MPctiuR-W"
      },
      "source": [
        "**Task:** The following code represents our training data. Visualize the data accordingly.\n",
        "\n",
        "**Hint:** We have a classification task with 2 classes. The result is a one-hot encoded vector of length 2, i.e., if there is a one in the first entry, the point belongs to the first class and if there is a one in the second entry, it belongs to the second class."
      ]
    },
    {
      "cell_type": "code",
      "execution_count": 7,
      "metadata": {
        "colab": {
          "base_uri": "https://localhost:8080/",
          "height": 472
        },
        "id": "KYdFR7zauR-W",
        "outputId": "d430fe9d-c77e-4eba-a7ce-89931770e723"
      },
      "outputs": [
        {
          "output_type": "display_data",
          "data": {
            "text/plain": [
              "<Figure size 640x480 with 1 Axes>"
            ],
            "image/png": "[encoded data removed]"
          },
          "metadata": {}
        }
      ],
      "source": [
        "import matplotlib.pyplot as plt\n",
        "\n",
        "x1 = np.array([0.1, 0.3, 0.1, 0.6, 0.4, 0.6, 0.5, 0.9, 0.4, 0.7])\n",
        "x2 = np.array([0.1, 0.4, 0.5, 0.9, 0.2, 0.3, 0.6, 0.2, 0.4, 0.6])\n",
        "y = np.array([[1, 1, 1, 1, 1, 0, 0, 0, 0, 0], [0, 0, 0, 0, 0, 1, 1, 1, 1, 1]])\n",
        "\n",
        "# Separate the data points based on their classes\n",
        "x1_class0 = x1[y[0] == 0]\n",
        "x2_class0 = x2[y[0] == 0]\n",
        "x1_class1 = x1[y[1] == 1]\n",
        "x2_class1 = x2[y[1] == 1]\n",
        "\n",
        "# Plot the data points\n",
        "plt.scatter(x1_class0, x2_class0, color='red', label='Class 0')\n",
        "plt.scatter(x1_class1, x2_class1, color='blue', label='Class 1')\n",
        "\n",
        "# Set the labels and title\n",
        "plt.xlabel('x1')\n",
        "plt.ylabel('x2')\n",
        "plt.title('Training Data')\n",
        "\n",
        "# Add a legend\n",
        "plt.legend()\n",
        "\n",
        "# Show the plot\n",
        "plt.show()\n"
      ]
    },
    {
      "cell_type": "markdown",
      "metadata": {
        "id": "Uk11MDLjuR-X"
      },
      "source": [
        "**Task:** Train the network using ''my_backprop'' and look at the results. Find different measures on how well the classification works."
      ]
    }
  ],
  "metadata": {
    "kernelspec": {
      "display_name": "Python [conda env:mmds]",
      "language": "python",
      "name": "conda-env-mmds-py"
    },
    "language_info": {
      "codemirror_mode": {
        "name": "ipython",
        "version": 3
      },
      "file_extension": ".py",
      "mimetype": "text/x-python",
      "name": "python",
      "nbconvert_exporter": "python",
      "pygments_lexer": "ipython3",
      "version": "3.7.4"
    },
    "colab": {
      "provenance": []
    }
  },
  "nbformat": 4,
  "nbformat_minor": 0
}